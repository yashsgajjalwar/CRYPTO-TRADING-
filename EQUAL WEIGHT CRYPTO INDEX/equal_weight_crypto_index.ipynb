{
 "cells": [
  {
   "attachments": {},
   "cell_type": "markdown",
   "id": "9c7736a1",
   "metadata": {},
   "source": [
    "# Equal Weight Crypto Index\n",
    "\n",
    "## Importing Libraries"
   ]
  },
  {
   "cell_type": "code",
   "execution_count": 1,
   "id": "c4df6d8f",
   "metadata": {},
   "outputs": [],
   "source": [
    "import numpy as np\n",
    "import pandas as pd\n",
    "import requests\n",
    "import xlsxwriter\n",
    "import math\n",
    "import time"
   ]
  },
  {
   "attachments": {},
   "cell_type": "markdown",
   "id": "c9f52dd5",
   "metadata": {},
   "source": [
    "## Importing Lists of Cryptocurrencies\n",
    "\n",
    "We are importing our list of cryptocurrencies from <span style = 'background : #D3D3D3'> \"crypto.csv\" </span> and storing in one list."
   ]
  },
  {
   "cell_type": "code",
   "execution_count": 2,
   "id": "f5568ea4",
   "metadata": {},
   "outputs": [
    {
     "name": "stdout",
     "output_type": "stream",
     "text": [
      "0        BTC\n",
      "1        ETH\n",
      "2       USDT\n",
      "3        BNB\n",
      "4       USDC\n",
      "       ...  \n",
      "195      ATA\n",
      "196      LSK\n",
      "197     WAXP\n",
      "198      CVC\n",
      "199    ROUTE\n",
      "Name: Symbol, Length: 200, dtype: object\n"
     ]
    }
   ],
   "source": [
    "df = pd.read_csv('crypto.csv')\n",
    "print(df['Symbol'])\n",
    "crypto = []\n",
    "for x in df['Symbol']:\n",
    "    crypto.append(x)"
   ]
  },
  {
   "attachments": {},
   "cell_type": "markdown",
   "id": "8e1844a7",
   "metadata": {},
   "source": [
    "## Acquiring API Token \n",
    "\n",
    "We are importing our CoinRanking API Token. This is the data provider that we are using in our Project."
   ]
  },
  {
   "cell_type": "code",
   "execution_count": 3,
   "id": "03b78743",
   "metadata": {},
   "outputs": [],
   "source": [
    "from zoro import API_KEY"
   ]
  },
  {
   "attachments": {},
   "cell_type": "markdown",
   "id": "4530b653",
   "metadata": {},
   "source": [
    "## Writing Our API Call Format"
   ]
  },
  {
   "cell_type": "code",
   "execution_count": 4,
   "id": "2891e23c",
   "metadata": {},
   "outputs": [],
   "source": [
    "url = \"https://api.coinranking.com/v2/coins\"\n",
    "headers = {\n",
    "        \"X-RapidAPI-Key\": API_KEY,\n",
    "        \"X-RapidAPI-Host\": \"coinranking1.p.rapidapi.com\"\n",
    "    }"
   ]
  },
  {
   "attachments": {},
   "cell_type": "markdown",
   "id": "af7a6af6",
   "metadata": {},
   "source": [
    "## Fetching and Storing Data in Respective Lists\n",
    "\n",
    "We are looping through the crypto symbols in 4 sets of 50 crypto symbols and further dividing it into 5 crypto symbols.\n",
    "\n",
    "### Set 1"
   ]
  },
  {
   "cell_type": "code",
   "execution_count": 6,
   "id": "19300118",
   "metadata": {},
   "outputs": [],
   "source": [
    "symbols_name = []\n",
    "name = []\n",
    "price = []\n",
    "volume_24 = []\n",
    "market_cap = []\n",
    "for i in range(0, 50, 5):\n",
    "    a = crypto[i : i + 5]\n",
    "    for symbol in a:\n",
    "        querystring = {\"referenceCurrencyUuid\":\"yhjMzLPhuIDl\",\"timePeriod\":\"3m\",\"symbols[0]\":{symbol},\"tiers[0]\":\"1\",\"orderBy\":\"marketCap\",\"limit\":\"1\",\"offset\":\"0\"}\n",
    "        response = requests.get(url, headers=headers, params=querystring)\n",
    "        data = response.json()\n",
    "        if data['status'] == 'success' and len(data['data']['coins']) != 0:\n",
    "            name.append(data['data']['coins'][0]['name'])\n",
    "            price.append(data['data']['coins'][0]['price'])\n",
    "            symbols_name.append(data['data']['coins'][0]['symbol'])\n",
    "            market_cap.append(data['data']['coins'][0]['marketCap'])\n",
    "            volume_24.append(data['data']['coins'][0]['24hVolume'])\n",
    "    time.sleep(80)"
   ]
  },
  {
   "attachments": {},
   "cell_type": "markdown",
   "id": "561e9fd3",
   "metadata": {},
   "source": [
    "### Set 2"
   ]
  },
  {
   "cell_type": "code",
   "execution_count": 7,
   "id": "8ef62b94",
   "metadata": {},
   "outputs": [],
   "source": [
    "for i in range(50, 100, 5):\n",
    "    a = crypto[i : i + 5]\n",
    "    for symbol in a:\n",
    "        querystring = {\"referenceCurrencyUuid\":\"yhjMzLPhuIDl\",\"timePeriod\":\"3m\",\"symbols[0]\":{symbol},\"tiers[0]\":\"1\",\"orderBy\":\"marketCap\",\"limit\":\"1\",\"offset\":\"0\"}\n",
    "        response = requests.get(url, headers=headers, params=querystring)\n",
    "        data = response.json()\n",
    "        if data['status'] == 'success' and len(data['data']['coins']) != 0:\n",
    "            name.append(data['data']['coins'][0]['name'])\n",
    "            price.append(data['data']['coins'][0]['price'])\n",
    "            symbols_name.append(data['data']['coins'][0]['symbol'])\n",
    "            market_cap.append(data['data']['coins'][0]['marketCap'])\n",
    "            volume_24.append(data['data']['coins'][0]['24hVolume'])\n",
    "    time.sleep(80)"
   ]
  },
  {
   "attachments": {},
   "cell_type": "markdown",
   "id": "1a4c8991",
   "metadata": {},
   "source": [
    "### Set 3"
   ]
  },
  {
   "cell_type": "code",
   "execution_count": 8,
   "id": "0fea2c9e",
   "metadata": {},
   "outputs": [],
   "source": [
    "for i in range(100, 150, 5):\n",
    "    a = crypto[i : i + 5]\n",
    "    for symbol in a:\n",
    "        querystring = {\"referenceCurrencyUuid\":\"yhjMzLPhuIDl\",\"timePeriod\":\"3m\",\"symbols[0]\":{symbol},\"tiers[0]\":\"1\",\"orderBy\":\"marketCap\",\"limit\":\"1\",\"offset\":\"0\"}\n",
    "        response = requests.get(url, headers=headers, params=querystring)\n",
    "        data = response.json()\n",
    "        if data['status'] == 'success' and len(data['data']['coins']) != 0:\n",
    "            name.append(data['data']['coins'][0]['name'])\n",
    "            price.append(data['data']['coins'][0]['price'])\n",
    "            symbols_name.append(data['data']['coins'][0]['symbol'])\n",
    "            market_cap.append(data['data']['coins'][0]['marketCap'])\n",
    "            volume_24.append(data['data']['coins'][0]['24hVolume'])\n",
    "    time.sleep(80)"
   ]
  },
  {
   "attachments": {},
   "cell_type": "markdown",
   "id": "e23a5b3c",
   "metadata": {},
   "source": [
    "### Set 4"
   ]
  },
  {
   "cell_type": "code",
   "execution_count": 9,
   "id": "e2aa4f8c",
   "metadata": {},
   "outputs": [],
   "source": [
    "for i in range(150, 200, 5):\n",
    "    a = crypto[i : i + 5]\n",
    "    for symbol in a:\n",
    "        querystring = {\"referenceCurrencyUuid\":\"yhjMzLPhuIDl\",\"timePeriod\":\"3m\",\"symbols[0]\":{symbol},\"tiers[0]\":\"1\",\"orderBy\":\"marketCap\",\"limit\":\"1\",\"offset\":\"0\"}\n",
    "        response = requests.get(url, headers=headers, params=querystring)\n",
    "        data = response.json()\n",
    "        if data['status'] == 'success' and len(data['data']['coins']) != 0:\n",
    "            name.append(data['data']['coins'][0]['name'])\n",
    "            price.append(data['data']['coins'][0]['price'])\n",
    "            symbols_name.append(data['data']['coins'][0]['symbol'])\n",
    "            market_cap.append(data['data']['coins'][0]['marketCap'])\n",
    "            volume_24.append(data['data']['coins'][0]['24hVolume'])\n",
    "    time.sleep(80)"
   ]
  },
  {
   "attachments": {},
   "cell_type": "markdown",
   "id": "c7aefe86",
   "metadata": {},
   "source": [
    "## Storing Our Crypto Data to a Pandas DataFrame\n",
    "\n",
    "We are adding our respective data to a Pandas DataFrame. Think of a DataFrame like the Python version of Spreadsheet. It stores tabular data."
   ]
  },
  {
   "cell_type": "code",
   "execution_count": 24,
   "id": "4b006f50",
   "metadata": {},
   "outputs": [
    {
     "name": "stdout",
     "output_type": "stream",
     "text": [
      "               Crypto Symbol         Price    Market Cap   24Hr Volume  \\\n",
      "0             Bitcoin    BTC  30851.836800  5.991450e+11  1.083431e+10   \n",
      "1            Ethereum    ETH   1941.492223  2.369454e+11  7.673368e+09   \n",
      "2          Tether USD   USDT      1.000015  8.335587e+10  2.082384e+10   \n",
      "3                 BNB    BNB    243.249158  3.768544e+10  7.114959e+08   \n",
      "4                USDC   USDC      0.999863  2.772682e+10  2.649387e+09   \n",
      "..                ...    ...           ...           ...           ...   \n",
      "188  Automata Network    ATA      0.102786  1.110093e+08  2.831499e+06   \n",
      "189              Lisk    LSK      0.839658  1.081973e+08  2.040559e+06   \n",
      "190               WAX   WAXP      0.051831  9.949912e+07  9.354946e+06   \n",
      "191             Civic    CVC      0.087925  8.792475e+07  1.475374e+07   \n",
      "192   Router Protocol  ROUTE      3.345915  8.798478e+07  1.812446e+06   \n",
      "\n",
      "    Investment  \n",
      "0          N/A  \n",
      "1          N/A  \n",
      "2          N/A  \n",
      "3          N/A  \n",
      "4          N/A  \n",
      "..         ...  \n",
      "188        N/A  \n",
      "189        N/A  \n",
      "190        N/A  \n",
      "191        N/A  \n",
      "192        N/A  \n",
      "\n",
      "[193 rows x 6 columns]\n"
     ]
    }
   ],
   "source": [
    "invest = ['N/A'] * len(name)\n",
    "price = np.array(price, dtype = float)\n",
    "volume_24 = np.array(volume_24, dtype = float)\n",
    "market_cap = np.array(market_cap, dtype = float)\n",
    "\n",
    "data_set = {\n",
    "    'Crypto' : name,\n",
    "    'Symbol' : symbols_name,\n",
    "    'Price' : price,\n",
    "    'Market Cap' : market_cap,\n",
    "    '24Hr Volume' : volume_24,\n",
    "    'Investment' : invest\n",
    "}\n",
    "final_df = pd.DataFrame(data_set)\n",
    "final_df.to_csv('Fetched_Data.csv')\n",
    "print(final_df)"
   ]
  },
  {
   "attachments": {},
   "cell_type": "markdown",
   "id": "681592d7",
   "metadata": {},
   "source": [
    "## Calculating the Amount of Investment in Each Crypto Asset\n",
    "\n",
    "Still we haven't calculated the amount of investment in each crypto assest, which will be calculated on the basis of your portfolio size."
   ]
  },
  {
   "cell_type": "code",
   "execution_count": 16,
   "id": "c806ef21",
   "metadata": {},
   "outputs": [],
   "source": [
    "portfolio_size = input(\"Enter the value of your portfolio: \")\n",
    "\n",
    "try:\n",
    "    val = float(portfolio_size)\n",
    "except ValueError:\n",
    "    print(\"Enter a valid amount \\nTry again\")\n",
    "    portfolio_size = input(\"Enter the value of your portfolio\")\n"
   ]
  },
  {
   "cell_type": "code",
   "execution_count": 26,
   "id": "2098d915",
   "metadata": {},
   "outputs": [
    {
     "name": "stdout",
     "output_type": "stream",
     "text": [
      "               Crypto Symbol         Price    Market Cap   24Hr Volume  \\\n",
      "0             Bitcoin    BTC  30851.836800  5.991450e+11  1.083431e+10   \n",
      "1            Ethereum    ETH   1941.492223  2.369454e+11  7.673368e+09   \n",
      "2          Tether USD   USDT      1.000015  8.335587e+10  2.082384e+10   \n",
      "3                 BNB    BNB    243.249158  3.768544e+10  7.114959e+08   \n",
      "4                USDC   USDC      0.999863  2.772682e+10  2.649387e+09   \n",
      "..                ...    ...           ...           ...           ...   \n",
      "188  Automata Network    ATA      0.102786  1.110093e+08  2.831499e+06   \n",
      "189              Lisk    LSK      0.839658  1.081973e+08  2.040559e+06   \n",
      "190               WAX   WAXP      0.051831  9.949912e+07  9.354946e+06   \n",
      "191             Civic    CVC      0.087925  8.792475e+07  1.475374e+07   \n",
      "192   Router Protocol  ROUTE      3.345915  8.798478e+07  1.812446e+06   \n",
      "\n",
      "    Investment  \n",
      "0          167  \n",
      "1         2668  \n",
      "2      5181267  \n",
      "3        21300  \n",
      "4      5182057  \n",
      "..         ...  \n",
      "188   50408876  \n",
      "189    6170785  \n",
      "190   99965287  \n",
      "191   58929336  \n",
      "192    1548559  \n",
      "\n",
      "[193 rows x 6 columns]\n"
     ]
    }
   ],
   "source": [
    "position_size = float(portfolio_size) / len(final_df.index)\n",
    "for i in range(0 ,len(final_df['Crypto'])):\n",
    "    final_df.loc[i, 'Investment'] = math.floor(position_size / final_df['Price'][i])\n",
    "\n",
    "print(final_df)"
   ]
  },
  {
   "attachments": {},
   "cell_type": "markdown",
   "id": "d59afcc4",
   "metadata": {},
   "source": [
    "## Formatting Our Excel Output\n",
    "\n",
    "We will be using the XlsxWriter library for Python to create nicely - formatted Excel files."
   ]
  },
  {
   "attachments": {},
   "cell_type": "markdown",
   "id": "78b83214",
   "metadata": {},
   "source": [
    "## Initializing Our XlsxWriter Object"
   ]
  },
  {
   "cell_type": "code",
   "execution_count": 116,
   "id": "ce086a82",
   "metadata": {},
   "outputs": [],
   "source": [
    "writer = pd.ExcelWriter('Trades.xlsx', engine = 'xlsxwriter')\n",
    "final_df.to_excel(writer, sheet_name = 'Trades', index = False, header = True)"
   ]
  },
  {
   "attachments": {},
   "cell_type": "markdown",
   "id": "02de290c",
   "metadata": {},
   "source": [
    "## Creating the Formats We'll Need For Our <span style = 'background : #D3D3D3'> .xlsx </span> File\n",
    "\n",
    "Formats include colors, fonts, style, and also symbols like <span style = 'background : #D3D3D3'> % </span> and <span style = 'background : #D3D3D3'> $ </span>. Formats we need for our Excel documents are :\n",
    "\n",
    "- String format for symbols and cryptocurrencies names  \n",
    "\n",
    "- Dollar format ($XX.XXX) for market cap, price, investment\n",
    "\n",
    "- Integer format (XXX,XXX) for volume"
   ]
  },
  {
   "cell_type": "code",
   "execution_count": 117,
   "id": "e814f91d",
   "metadata": {},
   "outputs": [],
   "source": [
    "background_color = 'white'\n",
    "font_color = 'black'\n",
    "font_name = 'Times New Roman'\n",
    "\n",
    "header_format = writer.book.add_format(\n",
    "    {\n",
    "        'font_color' : font_color,\n",
    "        'font_name' : font_name,\n",
    "        'font_size' : 14,\n",
    "        'bg_color' : background_color,\n",
    "        'bold' : True\n",
    "    }\n",
    ")\n",
    "string_format = writer.book.add_format(\n",
    "    {\n",
    "        'font_color' : font_color,\n",
    "        'bg_color' : background_color,\n",
    "        'border' : 1\n",
    "    }\n",
    ")\n",
    "\n",
    "dollar_format = writer.book.add_format(\n",
    "    {\n",
    "        'num_format' : '$0.00',\n",
    "        'font_color' : font_color,\n",
    "        'bg_color' : background_color,\n",
    "        'border' : 1\n",
    "    }\n",
    ")\n",
    "\n",
    "interger_format = writer.book.add_format(\n",
    "    {\n",
    "        'num_format' : '0',\n",
    "        'font_color' : font_color,\n",
    "        'bg_color' : background_color,\n",
    "        'border' : 1\n",
    "    }\n",
    ")\n"
   ]
  },
  {
   "attachments": {},
   "cell_type": "markdown",
   "id": "875c8ff5",
   "metadata": {},
   "source": [
    "## Applying Formats to the Columns of Our <span style='background:#D3D3D3'> .xlsx  </span>  File\n",
    "\n",
    "We can use the <span style = 'background : #D3D3D3'> set_column  </span> method applied to the <span style = 'background : #D3D3D3'> writer.sheets['Trades']  </span> object to apply formats to specific columns of our spreadsheets.\n",
    "\n",
    "Here's an example:\n",
    "\n",
    "```\n",
    "writer.sheets['Trades'].set_column('B:B', #This tells the method to apply the format to column B\n",
    "                     18, #This tells the method to apply a column width of 18 pixels\n",
    "                     string_format #This applies the format 'string_format' to the column\n",
    "                    )\n",
    "```"
   ]
  },
  {
   "cell_type": "code",
   "execution_count": 118,
   "id": "56a07c95",
   "metadata": {},
   "outputs": [],
   "source": [
    "column_formats = {\n",
    "    'A' : ['Crypto', string_format], \n",
    "    'B' : ['Symbol', string_format],\n",
    "    'C' : ['Price', dollar_format],\n",
    "    'D' : ['Market Cap', dollar_format],\n",
    "    'E' : ['24Hr Volume', interger_format],\n",
    "    'F' : ['Investment', dollar_format]\n",
    "}\n",
    "\n",
    "for column in column_formats.keys():\n",
    "    writer.sheets['Trades'].set_column(f'{column}:{column}', 20, column_formats[column][1])\n",
    "    writer.sheets['Trades'].write(f'{column}1', column_formats[column][0], header_format)\n"
   ]
  },
  {
   "attachments": {},
   "cell_type": "markdown",
   "id": "229fde06",
   "metadata": {},
   "source": [
    "## Saving Our Excel Output\n",
    "\n",
    "Saving our Excel file in our device."
   ]
  },
  {
   "cell_type": "code",
   "execution_count": 119,
   "id": "673f2d7e",
   "metadata": {},
   "outputs": [],
   "source": [
    "writer.close()"
   ]
  }
 ],
 "metadata": {
  "kernelspec": {
   "display_name": "Python 3",
   "language": "python",
   "name": "python3"
  },
  "language_info": {
   "codemirror_mode": {
    "name": "ipython",
    "version": 3
   },
   "file_extension": ".py",
   "mimetype": "text/x-python",
   "name": "python",
   "nbconvert_exporter": "python",
   "pygments_lexer": "ipython3",
   "version": "3.10.6"
  }
 },
 "nbformat": 4,
 "nbformat_minor": 5
}
